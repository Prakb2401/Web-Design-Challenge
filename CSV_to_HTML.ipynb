{
 "cells": [
  {
   "cell_type": "code",
   "execution_count": 1,
   "id": "63281439",
   "metadata": {},
   "outputs": [],
   "source": [
    "import pandas as pd"
   ]
  },
  {
   "cell_type": "code",
   "execution_count": 3,
   "id": "14af92c9",
   "metadata": {},
   "outputs": [],
   "source": [
    "csv_file = pd.read_csv(\"Resources/cities.csv\")"
   ]
  },
  {
   "cell_type": "code",
   "execution_count": 4,
   "id": "559beba2",
   "metadata": {},
   "outputs": [],
   "source": [
    "csv_file.to_html(\"Resources/cities.html\")"
   ]
  },
  {
   "cell_type": "code",
   "execution_count": null,
   "id": "a314bc8e",
   "metadata": {},
   "outputs": [],
   "source": []
  }
 ],
 "metadata": {
  "kernelspec": {
   "display_name": "Python 3 (ipykernel)",
   "language": "python",
   "name": "python3"
  },
  "language_info": {
   "codemirror_mode": {
    "name": "ipython",
    "version": 3
   },
   "file_extension": ".py",
   "mimetype": "text/x-python",
   "name": "python",
   "nbconvert_exporter": "python",
   "pygments_lexer": "ipython3",
   "version": "3.9.7"
  }
 },
 "nbformat": 4,
 "nbformat_minor": 5
}
